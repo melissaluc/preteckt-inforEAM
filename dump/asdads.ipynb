{
 "cells": [
  {
   "cell_type": "code",
   "execution_count": 1,
   "metadata": {},
   "outputs": [
    {
     "name": "stderr",
     "output_type": "stream",
     "text": [
      "usage: ipykernel_launcher.py [-h] [-s START_DATE] [-u UNIT_NUMBER]\n",
      "ipykernel_launcher.py: error: unrecognized arguments: --ip=127.0.0.1 --stdin=9009 --control=9007 --hb=9006 --Session.signature_scheme=\"hmac-sha256\" --Session.key=b\"34e460b6-f8b6-4e5b-afcc-c61524f3ddc9\" --shell=9008 --transport=\"tcp\" --iopub=9011 --f=c:\\Users\\MelissaLu\\AppData\\Roaming\\jupyter\\runtime\\kernel-v2-22008up3YTDBYD5S7.json\n"
     ]
    },
    {
     "ename": "SystemExit",
     "evalue": "2",
     "output_type": "error",
     "traceback": [
      "An exception has occurred, use %tb to see the full traceback.\n",
      "\u001b[1;31mSystemExit\u001b[0m\u001b[1;31m:\u001b[0m 2\n"
     ]
    },
    {
     "name": "stderr",
     "output_type": "stream",
     "text": [
      "c:\\Users\\MelissaLu\\Anaconda3\\lib\\site-packages\\IPython\\core\\interactiveshell.py:3465: UserWarning: To exit: use 'exit', 'quit', or Ctrl-D.\n",
      "  warn(\"To exit: use 'exit', 'quit', or Ctrl-D.\", stacklevel=1)\n"
     ]
    }
   ],
   "source": [
    "\"\"\"\n",
    "This is example code that illustrates how to fetch\n",
    "Fault History information from Preteckt's API.\n",
    "https://dash.preteckt.us/api/fault-history/\n",
    "Note on API Rate limits: Authenticated users \n",
    "have a rate limit of 500k requests per day.\n",
    "This script requires requests (https://pypi.org/project/requests/), \n",
    "but otherwise should work with just the standard library.\n",
    "\"\"\"\n",
    "import argparse\n",
    "import itertools\n",
    "import time\n",
    "from typing import Generator, Optional\n",
    "\n",
    "import requests\n",
    "\n",
    "# Retrieve your API auth token from: https://dash.preteckt.us/accounts/\n",
    "AUTH_TOKEN = \"1731a683f8d7dc71426316bb388efa4f35fe055c\"\n",
    "PAGE_SIZE = 100  # Number of items per page of the api, Maximum is 1000\n",
    "URL = \"https://dash.preteckt.us/api/fault-history/\"\n",
    "\n",
    "\n",
    "def fetch_all(\n",
    "    start_date: Optional[str] = None, unit_number: Optional[str] = None\n",
    ") -> Generator[list, None, None]:\n",
    "    \"\"\"\n",
    "    This function illustrates how to fetch data from Preteckt's Fault Code History\n",
    "    API, following paginated results.\n",
    "    It implements two of the available filters (from_time & unit_number), but also\n",
    "    illustrats how to set a desired number of results per page using the page_size\n",
    "    parameter.\n",
    "    \"\"\"\n",
    "    # GET parameters for the API request. These correspont to the Filters available on the endpoint.\n",
    "    params = {\"page_size\": PAGE_SIZE}\n",
    "    if start_date is not None:\n",
    "        params[\"from_time\"] = start_date\n",
    "    if unit_number is not None:\n",
    "        params[\"unit_number\"] = unit_number\n",
    "\n",
    "    # HTTP headers\n",
    "    headers = {\"Authorization\": f\"Token {AUTH_TOKEN}\"}\n",
    "\n",
    "    # Fetch pages of content\n",
    "    next_page = URL\n",
    "    while next_page is not None:\n",
    "        resp = requests.get(URL, params=params, headers=headers)\n",
    "        if resp.status_code == 200:\n",
    "            payload = resp.json()\n",
    "            next_page = payload[\"next\"]\n",
    "            print(f\"Got {len(payload['results'])} items. Next: {next_page}\")\n",
    "            yield payload[\"results\"]\n",
    "        else:\n",
    "            print(f\"Got {resp.status_code}... trying again in 5s.\")\n",
    "            time.sleep(5)\n",
    "\n",
    "\n",
    "if __name__ == \"__main__\":\n",
    "    parser = argparse.ArgumentParser(\n",
    "        description=\"This script allows you to fetch Fault Code History from the Preteckt API\"\n",
    "    )\n",
    "    parser.add_argument(\"-s\", \"--start-date\", type=str, help=\"Starting Date\")\n",
    "    parser.add_argument(\n",
    "        \"-u\",\n",
    "        \"--unit-number\",\n",
    "        type=str,\n",
    "        help=\"The Unit number for the device installed in a vehicle\",\n",
    "    )\n",
    "    args = parser.parse_args()\n",
    "\n",
    "    # fetch_all will return a list of results per page;\n",
    "    # we can use itertools.chain to flatten that into a single list of results.\n",
    "    results = list(\n",
    "        itertools.chain(\n",
    "            *fetch_all(start_date=args.start_date, unit_number=args.unit_number)\n",
    "        )\n",
    "    )\n",
    "    print(f\"Got {len(results)} total results.\")"
   ]
  }
 ],
 "metadata": {
  "kernelspec": {
   "display_name": "base",
   "language": "python",
   "name": "python3"
  },
  "language_info": {
   "codemirror_mode": {
    "name": "ipython",
    "version": 3
   },
   "file_extension": ".py",
   "mimetype": "text/x-python",
   "name": "python",
   "nbconvert_exporter": "python",
   "pygments_lexer": "ipython3",
   "version": "3.9.13"
  },
  "orig_nbformat": 4,
  "vscode": {
   "interpreter": {
    "hash": "dcaf35ce522c7242cc0913758e07c41eb5832c25698733ee2387dac29f011212"
   }
  }
 },
 "nbformat": 4,
 "nbformat_minor": 2
}
