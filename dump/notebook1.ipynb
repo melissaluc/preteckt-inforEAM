{
 "cells": [
  {
   "cell_type": "code",
   "execution_count": 17,
   "metadata": {},
   "outputs": [
    {
     "data": {
      "text/plain": [
       "None"
      ]
     },
     "metadata": {},
     "output_type": "display_data"
    }
   ],
   "source": [
    "# if df empty then do not append\n",
    "\n",
    "import pandas as pd\n",
    "import os\n",
    "import glob\n",
    "import re\n",
    "  \n",
    "\n",
    "# use glob to get all the csv files \n",
    "# in the folder\n",
    "# path = os.getcwd()\n",
    "\n",
    "path = r\"C:\\Users\\MelissaLu\\OneDrive - Metrolinx\\Desktop\\Projects\\Mobile Eco-2 Scraping\\output\"\n",
    "csv_files = glob.glob(os.path.join(path, \"*.csv\"))\n",
    "\n",
    "sub_str1 = \"_\"\n",
    "sub_str2 = \".csv\"\n",
    "\n",
    "df_list = []\n",
    "# loop over the list of csv files\n",
    "for f in csv_files:\n",
    "      \n",
    "    # read the csv file\n",
    "    df = pd.read_csv(f)\n",
    "    if df.empty == True:\n",
    "        continue\n",
    "\n",
    "    s=str(re.escape(sub_str1))\n",
    "    e=str(re.escape(sub_str2))\n",
    "    res=re.findall(s+\"(.*)\"+e,f)[0]\n",
    "\n",
    "    df.insert(0,\"veh_ID\",res)\n",
    "\n",
    "    df_list.append(df)\n",
    "    \n",
    "\n",
    "df_eco2 = pd.concat(df_list).to_csv(r\"C:\\Users\\MelissaLu\\OneDrive - Metrolinx\\Desktop\\Projects\\Mobile Eco-2 Scraping\\mobile-eco2-output.csv\")\n",
    "display(df_eco2)"
   ]
  }
 ],
 "metadata": {
  "kernelspec": {
   "display_name": "base",
   "language": "python",
   "name": "python3"
  },
  "language_info": {
   "codemirror_mode": {
    "name": "ipython",
    "version": 3
   },
   "file_extension": ".py",
   "mimetype": "text/x-python",
   "name": "python",
   "nbconvert_exporter": "python",
   "pygments_lexer": "ipython3",
   "version": "3.9.13"
  },
  "orig_nbformat": 4,
  "vscode": {
   "interpreter": {
    "hash": "dcaf35ce522c7242cc0913758e07c41eb5832c25698733ee2387dac29f011212"
   }
  }
 },
 "nbformat": 4,
 "nbformat_minor": 2
}
